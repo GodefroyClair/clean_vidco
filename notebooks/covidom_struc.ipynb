{
 "cells": [
  {
   "cell_type": "markdown",
   "metadata": {},
   "source": [
    "## Dependencies\n",
    "\n",
    "install condas & nb_conda"
   ]
  },
  {
   "cell_type": "code",
   "execution_count": 214,
   "metadata": {},
   "outputs": [],
   "source": [
    "import pandas as pd\n",
    "import numpy as np\n",
    "import jsonschema\n",
    "import json\n",
    "from functools import reduce"
   ]
  },
  {
   "cell_type": "code",
   "execution_count": 196,
   "metadata": {},
   "outputs": [],
   "source": [
    "covidom_struc = pd.read_csv('../doc/covidom_struc.csv', sep=';')"
   ]
  },
  {
   "cell_type": "code",
   "execution_count": 197,
   "metadata": {},
   "outputs": [
    {
     "data": {
      "text/plain": [
       "Index(['table', 'data_type', 'source_table', 'category', 'complexity',\n",
       "       'primary_keys', 'unique_fields', 'foreign_keys', 'comments'],\n",
       "      dtype='object')"
      ]
     },
     "execution_count": 197,
     "metadata": {},
     "output_type": "execute_result"
    }
   ],
   "source": [
    "covidom_struc.columns"
   ]
  },
  {
   "cell_type": "code",
   "execution_count": 198,
   "metadata": {},
   "outputs": [
    {
     "data": {
      "text/html": [
       "<div>\n",
       "<style scoped>\n",
       "    .dataframe tbody tr th:only-of-type {\n",
       "        vertical-align: middle;\n",
       "    }\n",
       "\n",
       "    .dataframe tbody tr th {\n",
       "        vertical-align: top;\n",
       "    }\n",
       "\n",
       "    .dataframe thead th {\n",
       "        text-align: right;\n",
       "    }\n",
       "</style>\n",
       "<table border=\"1\" class=\"dataframe\">\n",
       "  <thead>\n",
       "    <tr style=\"text-align: right;\">\n",
       "      <th></th>\n",
       "      <th>table</th>\n",
       "      <th>data_type</th>\n",
       "      <th>source_table</th>\n",
       "      <th>category</th>\n",
       "      <th>complexity</th>\n",
       "      <th>primary_keys</th>\n",
       "      <th>unique_fields</th>\n",
       "      <th>foreign_keys</th>\n",
       "      <th>comments</th>\n",
       "    </tr>\n",
       "  </thead>\n",
       "  <tbody>\n",
       "    <tr>\n",
       "      <th>0</th>\n",
       "      <td>patient</td>\n",
       "      <td>patient</td>\n",
       "      <td>?</td>\n",
       "      <td>patients et suivis</td>\n",
       "      <td>élémentaire</td>\n",
       "      <td>[\"patient\"]</td>\n",
       "      <td>[\"patient\"]</td>\n",
       "      <td>[]</td>\n",
       "      <td>x</td>\n",
       "    </tr>\n",
       "    <tr>\n",
       "      <th>1</th>\n",
       "      <td>clinic</td>\n",
       "      <td>établissement de santé?</td>\n",
       "      <td>Clinic</td>\n",
       "      <td>tables de référence</td>\n",
       "      <td>élémentaire</td>\n",
       "      <td>[\"Id\"]</td>\n",
       "      <td>[\"Id\"]</td>\n",
       "      <td>[]</td>\n",
       "      <td>1 seule ligne : \"1|Région Ile de France|1\"</td>\n",
       "    </tr>\n",
       "    <tr>\n",
       "      <th>2</th>\n",
       "      <td>doctor_list</td>\n",
       "      <td>médecin</td>\n",
       "      <td>Doctor</td>\n",
       "      <td>tables de référence</td>\n",
       "      <td>élémentaire</td>\n",
       "      <td>[\"#Doctor\"]</td>\n",
       "      <td>[\"#Doctor\"]</td>\n",
       "      <td>[]</td>\n",
       "      <td>Medecin fait référence à la même table</td>\n",
       "    </tr>\n",
       "    <tr>\n",
       "      <th>3</th>\n",
       "      <td>clinic_followup_reason</td>\n",
       "      <td>raison de suivi</td>\n",
       "      <td>?</td>\n",
       "      <td>patients et suivis</td>\n",
       "      <td>complexe</td>\n",
       "      <td>[\"#Clinic\", \"#Follow up reason\"]?</td>\n",
       "      <td>[\"#Clinic\", \"#Follow up reason\"]?</td>\n",
       "      <td>[{\"#Clinic\": {\"Id\": \"clinic\"}}]</td>\n",
       "      <td>PK is [\"#Clinic\", \"#Follow up reason\"] or [\"#F...</td>\n",
       "    </tr>\n",
       "    <tr>\n",
       "      <th>4</th>\n",
       "      <td>patient_note</td>\n",
       "      <td>données patients hors authentification</td>\n",
       "      <td>?</td>\n",
       "      <td>patients et suivis</td>\n",
       "      <td>complexe</td>\n",
       "      <td>[\"UId\"]</td>\n",
       "      <td>[\"UId\"]</td>\n",
       "      <td>[{\"PatientUId\": {\"#Patient\": \"patient\"}}]</td>\n",
       "      <td>référence à Author_id qui n'est pas présente</td>\n",
       "    </tr>\n",
       "    <tr>\n",
       "      <th>5</th>\n",
       "      <td>patient_stay</td>\n",
       "      <td>séjour_de_patient</td>\n",
       "      <td>PatientStay</td>\n",
       "      <td>patients et suivis</td>\n",
       "      <td>complexe</td>\n",
       "      <td>[\"#PatientStay_UId\"]</td>\n",
       "      <td>[\"#PatientStay_UId\"]</td>\n",
       "      <td>[{\"PatientStay_PatientUId\": {\"#Patient\": \"pati...</td>\n",
       "      <td>manque pk pour {\"PatientStay_UserProfileUId\", ...</td>\n",
       "    </tr>\n",
       "    <tr>\n",
       "      <th>6</th>\n",
       "      <td>doctor</td>\n",
       "      <td>médecins dans leurs établissements</td>\n",
       "      <td>Doctor_Clinic</td>\n",
       "      <td>tables de référence</td>\n",
       "      <td>complexe</td>\n",
       "      <td>NaN</td>\n",
       "      <td>NaN</td>\n",
       "      <td>[{\"#Doctor\": {\"#Doctor\": \"doctor_list\"}}, {\"#C...</td>\n",
       "      <td>relation doctor - clinic doctor 1 - n ?</td>\n",
       "    </tr>\n",
       "  </tbody>\n",
       "</table>\n",
       "</div>"
      ],
      "text/plain": [
       "                    table                               data_type  \\\n",
       "0                 patient                                 patient   \n",
       "1                  clinic                 établissement de santé?   \n",
       "2             doctor_list                                 médecin   \n",
       "3  clinic_followup_reason                         raison de suivi   \n",
       "4            patient_note  données patients hors authentification   \n",
       "5            patient_stay                       séjour_de_patient   \n",
       "6                  doctor      médecins dans leurs établissements   \n",
       "\n",
       "    source_table             category   complexity  \\\n",
       "0              ?   patients et suivis  élémentaire   \n",
       "1         Clinic  tables de référence  élémentaire   \n",
       "2         Doctor  tables de référence  élémentaire   \n",
       "3              ?   patients et suivis     complexe   \n",
       "4              ?   patients et suivis     complexe   \n",
       "5    PatientStay   patients et suivis     complexe   \n",
       "6  Doctor_Clinic  tables de référence     complexe   \n",
       "\n",
       "                        primary_keys                      unique_fields  \\\n",
       "0                        [\"patient\"]                        [\"patient\"]   \n",
       "1                             [\"Id\"]                             [\"Id\"]   \n",
       "2                        [\"#Doctor\"]                        [\"#Doctor\"]   \n",
       "3  [\"#Clinic\", \"#Follow up reason\"]?  [\"#Clinic\", \"#Follow up reason\"]?   \n",
       "4                            [\"UId\"]                            [\"UId\"]   \n",
       "5               [\"#PatientStay_UId\"]               [\"#PatientStay_UId\"]   \n",
       "6                                NaN                                NaN   \n",
       "\n",
       "                                        foreign_keys  \\\n",
       "0                                                 []   \n",
       "1                                                 []   \n",
       "2                                                 []   \n",
       "3                    [{\"#Clinic\": {\"Id\": \"clinic\"}}]   \n",
       "4          [{\"PatientUId\": {\"#Patient\": \"patient\"}}]   \n",
       "5  [{\"PatientStay_PatientUId\": {\"#Patient\": \"pati...   \n",
       "6  [{\"#Doctor\": {\"#Doctor\": \"doctor_list\"}}, {\"#C...   \n",
       "\n",
       "                                            comments  \n",
       "0                                                  x  \n",
       "1         1 seule ligne : \"1|Région Ile de France|1\"  \n",
       "2             Medecin fait référence à la même table  \n",
       "3  PK is [\"#Clinic\", \"#Follow up reason\"] or [\"#F...  \n",
       "4       référence à Author_id qui n'est pas présente  \n",
       "5  manque pk pour {\"PatientStay_UserProfileUId\", ...  \n",
       "6            relation doctor - clinic doctor 1 - n ?  "
      ]
     },
     "execution_count": 198,
     "metadata": {},
     "output_type": "execute_result"
    }
   ],
   "source": [
    "covidom_struc.head(7)"
   ]
  },
  {
   "cell_type": "code",
   "execution_count": 199,
   "metadata": {},
   "outputs": [
    {
     "data": {
      "text/plain": [
       "'[{\"PatientStay_PatientUId\": {\"#Patient\": \"patient\"}}, {\"PatientStay_ClinicId\": {\"#Clinic\": \"clinic_followup_reason\"}}, {\"PatientStay_DoctorId\": {\"#Doctor\": \"doctor_list\"}}, {\"PatientStay_FollowUpReasonId\": {\"#Follow up reason\": \"clinic_followup_reason\"}}, {\"PatientStay_EndReasonId\": {\"Id\": \"end_reason\"}}, {\"PatientStay_MedicalDepartmentId\": {\"#Medical dept\": \"medical_department_list\" }}]'"
      ]
     },
     "execution_count": 199,
     "metadata": {},
     "output_type": "execute_result"
    }
   ],
   "source": [
    "covidom_struc.foreign_keys[5]"
   ]
  },
  {
   "cell_type": "code",
   "execution_count": 200,
   "metadata": {},
   "outputs": [
    {
     "data": {
      "text/plain": [
       "[{'PatientStay_PatientUId': {'#Patient': 'patient'}},\n",
       " {'PatientStay_ClinicId': {'#Clinic': 'clinic_followup_reason'}},\n",
       " {'PatientStay_DoctorId': {'#Doctor': 'doctor_list'}},\n",
       " {'PatientStay_FollowUpReasonId': {'#Follow up reason': 'clinic_followup_reason'}},\n",
       " {'PatientStay_EndReasonId': {'Id': 'end_reason'}},\n",
       " {'PatientStay_MedicalDepartmentId': {'#Medical dept': 'medical_department_list'}}]"
      ]
     },
     "execution_count": 200,
     "metadata": {},
     "output_type": "execute_result"
    }
   ],
   "source": [
    "json.loads(covidom_struc.foreign_keys[5])"
   ]
  },
  {
   "cell_type": "code",
   "execution_count": 201,
   "metadata": {},
   "outputs": [],
   "source": [
    "covidom_struc['json_fk'] = covidom_struc.foreign_keys.apply(json.loads)"
   ]
  },
  {
   "cell_type": "code",
   "execution_count": 202,
   "metadata": {},
   "outputs": [],
   "source": [
    "fk_schema = {\n",
    "  \"$id\": \"https://example.com/person.schema.json\",\n",
    "  \"$schema\": \"http://json-schema.org/draft-07/schema#\",\n",
    "  \"title\": \"Foreign key\",\n",
    "  \"type\": \"array\",\n",
    "  \"items\": {\n",
    "      \"type\": \"object\"\n",
    "  }\n",
    "}"
   ]
  },
  {
   "cell_type": "code",
   "execution_count": 203,
   "metadata": {},
   "outputs": [],
   "source": [
    "assert all(covidom_struc['json_fk'].apply(lambda fk: jsonschema.validate(fk, fk_schema) is None))"
   ]
  },
  {
   "cell_type": "code",
   "execution_count": 204,
   "metadata": {},
   "outputs": [],
   "source": [
    "import re\n",
    "\n",
    "def transf_json_obj(obj, tbl_dest_name):\n",
    "    col_dest_name = list(obj.keys())[0]\n",
    "    col_src_name = list(obj[col_dest_name].keys())[0]\n",
    "    tbl_src_name = obj[col_dest_name][col_src_name]\n",
    "    \n",
    "    fk = row.json_fk[0]\n",
    "    dest_field= list(fk.keys())[0]\n",
    "    src_field=list(fk[dest_field].keys())[0]\n",
    "    src_tbl=fk[dest_field][src_field]\n",
    "    \n",
    "    return {'tbl_dest_name': tbl_dest_name, 'col_dest_name': col_dest_name, \n",
    "            'tbl_src_name': tbl_src_name, 'col_src_name': col_src_name}\n",
    "\n",
    "def transf_json_objs(arr, tbl_dest_name):\n",
    "    return list(map(lambda obj: transf_json_obj(obj, tbl_dest_name), arr))\n",
    "    "
   ]
  },
  {
   "cell_type": "code",
   "execution_count": 205,
   "metadata": {},
   "outputs": [],
   "source": [
    "assert transf_json_obj(json.loads('{\"#PatientUId\": {\"patient\": \"patient\"}}'), \"xx\") ==\\\n",
    "{\"tbl_dest_name\": \"xx\", \"col_dest_name\": \"#PatientUId\", \"tbl_src_name\": \"patient\", \"col_src_name\": \"patient\"}\n",
    "assert transf_json_obj(json.loads('{\"x\": {\"y\": \"z\"}}'), \"00\") ==\\\n",
    "{\"tbl_dest_name\": \"00\", \"col_dest_name\": \"x\", \"tbl_src_name\": \"z\", \"col_src_name\": \"y\"}\n",
    "\n",
    "assert transf_json_objs(json.loads('[{\"x\": {\"y\": \"z\"}}]'), \"00\") ==\\\n",
    "[{\"tbl_dest_name\": \"00\", \"col_dest_name\": \"x\", \"tbl_src_name\": \"z\", \"col_src_name\": \"y\"}]\n",
    "\n",
    "assert transf_json_objs(covidom_struc.json_fk[3], covidom_struc.table[3]) ==\\\n",
    "[{'tbl_dest_name': 'clinic_followup_reason',\n",
    "  'col_dest_name': '#Clinic',\n",
    "  'tbl_src_name': 'clinic',\n",
    "  'col_src_name': 'Id'}]\n",
    "\n",
    "#'ALTER TABLE clinic_followup_reason\\n  ADD FOREIGN KEY (#Clinic) REFERENCES clinic(Id);\\n'"
   ]
  },
  {
   "cell_type": "code",
   "execution_count": 206,
   "metadata": {},
   "outputs": [],
   "source": [
    "covidom_struc['json_formatted'] = covidom_struc.apply(lambda row: transf_json_objs(row.json_fk, row.table), axis=1)"
   ]
  },
  {
   "cell_type": "code",
   "execution_count": 207,
   "metadata": {},
   "outputs": [],
   "source": [
    "assert transf_json_objs(covidom_struc.json_fk[3], covidom_struc.table[3]) == [{'tbl_dest_name': 'clinic_followup_reason',\n",
    "  'col_dest_name': '#Clinic',\n",
    "  'tbl_src_name': 'clinic',\n",
    "  'col_src_name': 'Id'}]"
   ]
  },
  {
   "cell_type": "code",
   "execution_count": 274,
   "metadata": {},
   "outputs": [
    {
     "data": {
      "text/plain": [
       "[{'tbl_dest_name': 'patient_stay',\n",
       "  'col_dest_name': 'PatientStay_PatientUId',\n",
       "  'tbl_src_name': 'patient',\n",
       "  'col_src_name': '#Patient'},\n",
       " {'tbl_dest_name': 'patient_stay',\n",
       "  'col_dest_name': 'PatientStay_ClinicId',\n",
       "  'tbl_src_name': 'clinic_followup_reason',\n",
       "  'col_src_name': '#Clinic'},\n",
       " {'tbl_dest_name': 'patient_stay',\n",
       "  'col_dest_name': 'PatientStay_DoctorId',\n",
       "  'tbl_src_name': 'doctor_list',\n",
       "  'col_src_name': '#Doctor'},\n",
       " {'tbl_dest_name': 'patient_stay',\n",
       "  'col_dest_name': 'PatientStay_FollowUpReasonId',\n",
       "  'tbl_src_name': 'clinic_followup_reason',\n",
       "  'col_src_name': '#Follow up reason'},\n",
       " {'tbl_dest_name': 'patient_stay',\n",
       "  'col_dest_name': 'PatientStay_EndReasonId',\n",
       "  'tbl_src_name': 'end_reason',\n",
       "  'col_src_name': 'Id'},\n",
       " {'tbl_dest_name': 'patient_stay',\n",
       "  'col_dest_name': 'PatientStay_MedicalDepartmentId',\n",
       "  'tbl_src_name': 'medical_department_list',\n",
       "  'col_src_name': '#Medical dept'}]"
      ]
     },
     "execution_count": 274,
     "metadata": {},
     "output_type": "execute_result"
    }
   ],
   "source": [
    "list_fks_in_tbl = transf_json_objs(covidom_struc.json_fk[5], covidom_struc.table[5])\n",
    "list_fks_in_tbl"
   ]
  },
  {
   "cell_type": "code",
   "execution_count": 370,
   "metadata": {},
   "outputs": [],
   "source": [
    "def grp_by_src_name(list_fks_in_tbl):\n",
    "    return reduce(lambda acc, cur: {**acc, cur['tbl_src_name']: [*acc[cur['tbl_src_name']], cur]\n",
    "                                                   if cur['tbl_src_name'] in acc.keys() else [cur] },list_fks_in_tbl, {})\n",
    "fks_grpby_src_name = grp_by_src_name(list_fks_in_tbl)\n",
    "assert fks_grpby_src_name == {'patient': [{'tbl_dest_name': 'patient_stay',\n",
    "   'col_dest_name': 'PatientStay_PatientUId',\n",
    "   'tbl_src_name': 'patient',\n",
    "   'col_src_name': '#Patient'}],\n",
    " 'clinic_followup_reason': [{'tbl_dest_name': 'patient_stay',\n",
    "   'col_dest_name': 'PatientStay_ClinicId',\n",
    "   'tbl_src_name': 'clinic_followup_reason',\n",
    "   'col_src_name': '#Clinic'},\n",
    "  {'tbl_dest_name': 'patient_stay',\n",
    "   'col_dest_name': 'PatientStay_FollowUpReasonId',\n",
    "   'tbl_src_name': 'clinic_followup_reason',\n",
    "   'col_src_name': '#Follow up reason'}],\n",
    " 'doctor_list': [{'tbl_dest_name': 'patient_stay',\n",
    "   'col_dest_name': 'PatientStay_DoctorId',\n",
    "   'tbl_src_name': 'doctor_list',\n",
    "   'col_src_name': '#Doctor'}],\n",
    " 'end_reason': [{'tbl_dest_name': 'patient_stay',\n",
    "   'col_dest_name': 'PatientStay_EndReasonId',\n",
    "   'tbl_src_name': 'end_reason',\n",
    "   'col_src_name': 'Id'}],\n",
    " 'medical_department_list': [{'tbl_dest_name': 'patient_stay',\n",
    "   'col_dest_name': 'PatientStay_MedicalDepartmentId',\n",
    "   'tbl_src_name': 'medical_department_list',\n",
    "   'col_src_name': '#Medical dept'}]}"
   ]
  },
  {
   "cell_type": "code",
   "execution_count": 305,
   "metadata": {},
   "outputs": [],
   "source": [
    "fks_grpby_src_name = covidom_struc['json_formatted'].apply(grp_by_src_name)"
   ]
  },
  {
   "cell_type": "code",
   "execution_count": 310,
   "metadata": {},
   "outputs": [],
   "source": [
    "def fks_merge_cols(fks_grpby_src_name):\n",
    "    return {key : reduce(lambda acc, cur: { 'tbl_dest_name': cur['tbl_dest_name'],\n",
    "                                 'col_dest_name': [cur['col_dest_name'], *acc['col_dest_name']] if 'col_dest_name' in acc else [cur['col_dest_name']],\n",
    "                                 'tbl_src_name': cur['tbl_src_name'],\n",
    "                                 'col_src_name': [cur['col_src_name'], *acc['col_src_name']] if 'col_src_name' in acc else [cur['col_src_name']],\n",
    "}, value, {}) for key, value in fks_grpby_src_name.items()}"
   ]
  },
  {
   "cell_type": "code",
   "execution_count": 368,
   "metadata": {},
   "outputs": [],
   "source": [
    "fks_merged_cols = fks_grpby_src_name.apply(fks_merge_cols)"
   ]
  },
  {
   "cell_type": "code",
   "execution_count": 369,
   "metadata": {},
   "outputs": [],
   "source": [
    "assert fks_merged_cols[5]['clinic_followup_reason'] == {'tbl_dest_name': 'patient_stay',\n",
    "  'col_dest_name': ['PatientStay_FollowUpReasonId', 'PatientStay_ClinicId'],\n",
    "  'tbl_src_name': 'clinic_followup_reason',\n",
    "  'col_src_name': ['#Follow up reason', '#Clinic']}"
   ]
  },
  {
   "cell_type": "code",
   "execution_count": 349,
   "metadata": {},
   "outputs": [],
   "source": [
    "alter_tmplt = Template(\"\"\"ALTER TABLE $table_dest\n",
    "  ADD FOREIGN KEY ($dest_field) REFERENCES $source_table($source_field);\n",
    "\"\"\")"
   ]
  },
  {
   "cell_type": "code",
   "execution_count": 350,
   "metadata": {},
   "outputs": [],
   "source": [
    "def fk_sql_from_tplt_ho(template):\n",
    "    def list2upplet(inp):\n",
    "        return ', '.join(map(lambda e: \"\\\"\" + e + \"\\\"\", inp)) if isinstance(inp, list) else inp\n",
    "    def foreign_key_sql_from_tplt(jsons):\n",
    "        return '\\n'.join(list(map(\n",
    "            lambda jso: template.substitute(\n",
    "                table_dest=jso[\"tbl_dest_name\"],\n",
    "                dest_field=list2upplet(jso[\"col_dest_name\"]),\n",
    "                source_field=list2upplet(jso[\"col_src_name\"]),\n",
    "                source_table=jso[\"tbl_src_name\"]),\n",
    "            jsons.values())))\n",
    "    return foreign_key_sql_from_tplt\n",
    "foreign_key_sql= fk_sql_from_tplt_ho(alter_tmplt)\n"
   ]
  },
  {
   "cell_type": "code",
   "execution_count": 353,
   "metadata": {},
   "outputs": [
    {
     "data": {
      "text/plain": [
       "'ALTER TABLE patient_stay\\n  ADD FOREIGN KEY (PatientStay_MedicalDepartmentId) REFERENCES medical_department_list(#Medical dept);\\n'"
      ]
     },
     "execution_count": 353,
     "metadata": {},
     "output_type": "execute_result"
    }
   ],
   "source": [
    "row = covidom_struc.loc[5]\n",
    "fk = row.json_fk[5]\n",
    "dest_field= list(fk.keys())[0]\n",
    "src_field=list(fk[dest_field].keys())[0]\n",
    "src_tbl=fk[dest_field][src_field]\n",
    "\n",
    "alter_tmplt.substitute(table_dest=row.table, dest_field=dest_field, \n",
    "                       source_table=src_tbl, source_field=src_field)"
   ]
  },
  {
   "cell_type": "code",
   "execution_count": 357,
   "metadata": {},
   "outputs": [],
   "source": [
    "sql_scripts = fks_merged_cols.apply(foreign_key_sql)"
   ]
  },
  {
   "cell_type": "code",
   "execution_count": 364,
   "metadata": {},
   "outputs": [
    {
     "data": {
      "text/plain": [
       "'ALTER TABLE clinic_followup_reason\\n  ADD FOREIGN KEY (\"#Clinic\") REFERENCES clinic(\"Id\");\\nALTER TABLE patient_note\\n  ADD FOREIGN KEY (\"PatientUId\") REFERENCES patient(\"#Patient\");\\nALTER TABLE patient_stay\\n  ADD FOREIGN KEY (\"PatientStay_PatientUId\") REFERENCES patient(\"#Patient\");\\n\\nALTER TABLE patient_stay\\n  ADD FOREIGN KEY (\"PatientStay_FollowUpReasonId\", \"PatientStay_ClinicId\") REFERENCES clinic_followup_reason(\"#Follow up reason\", \"#Clinic\");\\n\\nALTER TABLE patient_stay\\n  ADD FOREIGN KEY (\"PatientStay_DoctorId\") REFERENCES doctor_list(\"#Doctor\");\\n\\nALTER TABLE patient_stay\\n  ADD FOREIGN KEY (\"PatientStay_EndReasonId\") REFERENCES end_reason(\"Id\");\\n\\nALTER TABLE patient_stay\\n  ADD FOREIGN KEY (\"PatientStay_MedicalDepartmentId\") REFERENCES medical_department_list(\"#Medical dept\");\\nALTER TABLE doctor\\n  ADD FOREIGN KEY (\"#Doctor\") REFERENCES doctor_list(\"#Doctor\");\\n\\nALTER TABLE doctor\\n  ADD FOREIGN KEY (\"#Clinic\") REFERENCES clinic(\"Id\");\\n\\nALTER TABLE doctor\\n  ADD FOREIGN KEY (\"#Medical Dept\") REFERENCES medical_department(\"#Medical Dept\");\\nALTER TABLE patient_mapping\\n  ADD FOREIGN KEY (\"#Médecin\") REFERENCES doctor(\"#Doctor\");\\n\\nALTER TABLE patient_mapping\\n  ADD FOREIGN KEY (\"#Clinique\") REFERENCES clinic(\"Id\");\\n\\nALTER TABLE patient_mapping\\n  ADD FOREIGN KEY (\"#Patient\") REFERENCES patient(\"#Patient\");\\n\\nALTER TABLE patient_mapping\\n  ADD FOREIGN KEY (\"#Séjour\") REFERENCES patient_stay(\"#Patient_Stay_UId\");\\nALTER TABLE data_demography\\n  ADD FOREIGN KEY (\"#Clinic\") REFERENCES clinic(\"Id\");\\n\\nALTER TABLE data_demography\\n  ADD FOREIGN KEY (\"#MedicalDepartment\") REFERENCES medical_department_list(\"#Medical dept\");\\n\\nALTER TABLE data_demography\\n  ADD FOREIGN KEY (\"#Doctor\") REFERENCES doctor_list(\"#Doctor\");\\n\\nALTER TABLE data_demography\\n  ADD FOREIGN KEY (\"#Follow Up Reason\") REFERENCES clinic_followup_reason(\"#Follow up reason\");\\nALTER TABLE data_user_account\\n  ADD FOREIGN KEY (\"#Clinic\") REFERENCES clinic(\"Id\");\\n\\nALTER TABLE data_user_account\\n  ADD FOREIGN KEY (\"#MedicalDepartment\") REFERENCES medical_department_list(\"#Medical dept\");\\n\\nALTER TABLE data_user_account\\n  ADD FOREIGN KEY (\"#Doctor\") REFERENCES doctor_list(\"#Doctor\");\\n\\nALTER TABLE data_user_account\\n  ADD FOREIGN KEY (\"#Follow up reason\") REFERENCES clinic_followup_reason(\"#Follow up reason\");\\nALTER TABLE medical_department\\n  ADD FOREIGN KEY (\"#Clinic\") REFERENCES clinic(\"Id\");\\n\\nALTER TABLE medical_department\\n  ADD FOREIGN KEY (\"#MedicalDepartment\") REFERENCES medical_department_list(\"#Medical dept\");\\nALTER TABLE data_stay\\n  ADD FOREIGN KEY (\"#Clinic\") REFERENCES clinic(\"Id\");\\n\\nALTER TABLE data_stay\\n  ADD FOREIGN KEY (\"#Medical dept\") REFERENCES medical_department_list(\"#Medical dept\");\\n\\nALTER TABLE data_stay\\n  ADD FOREIGN KEY (\"#Doctor\") REFERENCES doctor_list(\"#Doctor\");\\n\\nALTER TABLE data_stay\\n  ADD FOREIGN KEY (\"#Follow up reason\") REFERENCES clinic_followup_reason(\"#Follow up reason\");\\nALTER TABLE end_reason\\n  ADD FOREIGN KEY (\"#Clinic\") REFERENCES clinic(\"Id\");\\n\\nALTER TABLE end_reason\\n  ADD FOREIGN KEY (\"#Doctor\") REFERENCES doctor_list(\"#Doctor\");\\n\\nALTER TABLE end_reason\\n  ADD FOREIGN KEY (\"#Follow up reason\") REFERENCES clinic_followup_reason(\"#Follow up reason\");\\nALTER TABLE patient_form\\n  ADD FOREIGN KEY (\"PatientUId\") REFERENCES patient(\"#Patient\");\\n\\nALTER TABLE patient_form\\n  ADD FOREIGN KEY (\"FormResultUId\") REFERENCES form_result(\"UId\");\\n\\nALTER TABLE patient_form\\n  ADD FOREIGN KEY (\"PatientStayUId\") REFERENCES patient_stay(\"UId\");\\n\\nALTER TABLE patient_form\\n  ADD FOREIGN KEY (\"FormCode\") REFERENCES form_definition(\"Code\");\\nALTER TABLE patient_form_comments_preadfile\\n  ADD FOREIGN KEY (\"PatientFormCommentsUId\") REFERENCES patient_form_comments(\"UId\");\\n\\nALTER TABLE patient_form_comments_preadfile\\n  ADD FOREIGN KEY (\"PreAdFileId\") REFERENCES PreAdFile(\"Id\");\\nALTER TABLE form_result_option\\n  ADD FOREIGN KEY (\"FormResultUId\") REFERENCES FormResult(\"UId\");\\nALTER TABLE form_result\\n  ADD FOREIGN KEY (\"FormCode\") REFERENCES FormDefinition(\"Code\");\\nALTER TABLE patient_form_comments\\n  ADD FOREIGN KEY (\"PatientFormUId\") REFERENCES patient_form(\"UId\");\\nALTER TABLE survey_answer\\n  ADD FOREIGN KEY (\"#Clinique\") REFERENCES clinic(\"Id\");\\n\\nALTER TABLE survey_answer\\n  ADD FOREIGN KEY (\"#Médecin\") REFERENCES doctor(\"#Doctor\");\\n\\nALTER TABLE survey_answer\\n  ADD FOREIGN KEY (\"#Patient\") REFERENCES patient(\"#Patient\");\\n\\nALTER TABLE survey_answer\\n  ADD FOREIGN KEY (\"#Séjour\") REFERENCES patient_stay(\"UId\");\\n\\nALTER TABLE survey_answer\\n  ADD FOREIGN KEY (\"#Alert Type\") REFERENCES alert(\"Id\");\\nALTER TABLE survey_answer\\n  ADD FOREIGN KEY (\"#Clinique\") REFERENCES clinic(\"Id\");\\n\\nALTER TABLE survey_answer\\n  ADD FOREIGN KEY (\"#Médecin\") REFERENCES doctor(\"#Doctor\");\\n\\nALTER TABLE survey_answer\\n  ADD FOREIGN KEY (\"#Patient\") REFERENCES patient(\"#Patient\");\\n\\nALTER TABLE survey_answer\\n  ADD FOREIGN KEY (\"#Séjour\") REFERENCES PatientStay(\"UId\");\\n\\nALTER TABLE survey_answer\\n  ADD FOREIGN KEY (\"#Alert Type\") REFERENCES AlertType(\"Id\");\\nALTER TABLE task\\n  ADD FOREIGN KEY (\"#Clinic\") REFERENCES clinic(\"Id\");\\n\\nALTER TABLE task\\n  ADD FOREIGN KEY (\"#Medical Department\") REFERENCES medical_department_list(\"#Medical Dept\");\\n\\nALTER TABLE task\\n  ADD FOREIGN KEY (\"#Doctor\") REFERENCES doctor_list(\"#Doctor\");\\n\\nALTER TABLE task\\n  ADD FOREIGN KEY (\"#Follow Up Reason\") REFERENCES clinic_followup_reason(\"#Follow up reason\");\\n\\nALTER TABLE task\\n  ADD FOREIGN KEY (\"#Alert Type\") REFERENCES AlertType(\"Id\");\\nALTER TABLE alert\\n  ADD FOREIGN KEY (\"#Clinic\") REFERENCES clinic(\"Id\");\\n\\nALTER TABLE alert\\n  ADD FOREIGN KEY (\"#Medical Department\") REFERENCES medical_department_list(\"#Medical Dept\");\\n\\nALTER TABLE alert\\n  ADD FOREIGN KEY (\"#Doctor\") REFERENCES doctor_list(\"#Doctor\");\\n\\nALTER TABLE alert\\n  ADD FOREIGN KEY (\"#Follow Up Reason\") REFERENCES clinic_followup_reason(\"#Follow up reason\");\\n\\nALTER TABLE alert\\n  ADD FOREIGN KEY (\"#Alert Type\") REFERENCES AlertType(\"Id\");\\nALTER TABLE alert_subitem\\n  ADD FOREIGN KEY (\"CorrelationUId\") REFERENCES CheckListResult(\"UId\");\\n\\nALTER TABLE alert_subitem\\n  ADD FOREIGN KEY (\"AlertTypeId\") REFERENCES AlertType(\"Id\");\\n\\nALTER TABLE alert_subitem\\n  ADD FOREIGN KEY (\"ItemNo\") REFERENCES checklist_item(\"ItemNo\");\\n\\nALTER TABLE alert_subitem\\n  ADD FOREIGN KEY (\"AlertTypeId\") REFERENCES AlertTypeId(\"Id\");\\n'"
      ]
     },
     "execution_count": 364,
     "metadata": {},
     "output_type": "execute_result"
    }
   ],
   "source": [
    "sql_scripts.str.cat()#sep='\\n')"
   ]
  },
  {
   "cell_type": "code",
   "execution_count": null,
   "metadata": {},
   "outputs": [],
   "source": []
  },
  {
   "cell_type": "code",
   "execution_count": null,
   "metadata": {},
   "outputs": [],
   "source": []
  }
 ],
 "metadata": {
  "kernelspec": {
   "display_name": "Python [conda env:covidom] *",
   "language": "python",
   "name": "conda-env-covidom-py"
  },
  "language_info": {
   "codemirror_mode": {
    "name": "ipython",
    "version": 3
   },
   "file_extension": ".py",
   "mimetype": "text/x-python",
   "name": "python",
   "nbconvert_exporter": "python",
   "pygments_lexer": "ipython3",
   "version": "3.7.6"
  }
 },
 "nbformat": 4,
 "nbformat_minor": 4
}
